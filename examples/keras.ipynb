{
 "cells": [
  {
   "cell_type": "markdown",
   "metadata": {},
   "source": [
    "# Keras + EC2\n",
    "\n",
    "Recommended instance type: p2.xlarge"
   ]
  },
  {
   "cell_type": "code",
   "execution_count": 1,
   "metadata": {},
   "outputs": [
    {
     "name": "stdout",
     "output_type": "stream",
     "text": [
      "download: s3://rikturr/2015_partB_sparse.npz to ./2015_partB_sparse.npz\n",
      "download: s3://rikturr/2015_partB_lookup.csv to ./2015_partB_lookup.csv\n"
     ]
    }
   ],
   "source": [
    "!aws s3 cp s3://rikturr/2015_partB_sparse.npz .\n",
    "!aws s3 cp s3://rikturr/2015_partB_lookup.csv ."
   ]
  },
  {
   "cell_type": "code",
   "execution_count": 5,
   "metadata": {},
   "outputs": [
    {
     "name": "stdout",
     "output_type": "stream",
     "text": [
      "Collecting scikit-learn\n",
      "  Downloading scikit_learn-0.19.1-cp36-cp36m-manylinux1_x86_64.whl (12.4MB)\n",
      "\u001b[K    100% |████████████████████████████████| 12.4MB 110kB/s eta 0:00:01\n",
      "\u001b[?25hInstalling collected packages: scikit-learn\n",
      "Successfully installed scikit-learn-0.19.1\n"
     ]
    }
   ],
   "source": [
    "!pip install scikit-learn"
   ]
  },
  {
   "cell_type": "code",
   "execution_count": 2,
   "metadata": {},
   "outputs": [
    {
     "name": "stderr",
     "output_type": "stream",
     "text": [
      "/home/ec2-user/anaconda3/envs/tensorflow_p36/lib/python3.6/site-packages/matplotlib/__init__.py:962: UserWarning: Duplicate key in file \"/home/ec2-user/.config/matplotlib/matplotlibrc\", line #2\n",
      "  (fname, cnt))\n",
      "/home/ec2-user/anaconda3/envs/tensorflow_p36/lib/python3.6/site-packages/matplotlib/__init__.py:962: UserWarning: Duplicate key in file \"/home/ec2-user/.config/matplotlib/matplotlibrc\", line #3\n",
      "  (fname, cnt))\n"
     ]
    }
   ],
   "source": [
    "import scipy.sparse as sp\n",
    "import pandas as pd\n",
    "import numpy as np\n",
    "\n",
    "random_state = 42\n",
    "labels = pd.read_csv('2015_partB_lookup.csv')\n",
    "features = sp.load_npz('2015_partB_sparse.npz')"
   ]
  },
  {
   "cell_type": "code",
   "execution_count": 3,
   "metadata": {},
   "outputs": [
    {
     "data": {
      "text/html": [
       "<div>\n",
       "<style scoped>\n",
       "    .dataframe tbody tr th:only-of-type {\n",
       "        vertical-align: middle;\n",
       "    }\n",
       "\n",
       "    .dataframe tbody tr th {\n",
       "        vertical-align: top;\n",
       "    }\n",
       "\n",
       "    .dataframe thead th {\n",
       "        text-align: right;\n",
       "    }\n",
       "</style>\n",
       "<table border=\"1\" class=\"dataframe\">\n",
       "  <thead>\n",
       "    <tr style=\"text-align: right;\">\n",
       "      <th></th>\n",
       "      <th>npi</th>\n",
       "      <th>provider_type</th>\n",
       "    </tr>\n",
       "  </thead>\n",
       "  <tbody>\n",
       "    <tr>\n",
       "      <th>0</th>\n",
       "      <td>1003000126</td>\n",
       "      <td>Internal Medicine</td>\n",
       "    </tr>\n",
       "    <tr>\n",
       "      <th>1</th>\n",
       "      <td>1003000142</td>\n",
       "      <td>Anesthesiology</td>\n",
       "    </tr>\n",
       "    <tr>\n",
       "      <th>2</th>\n",
       "      <td>1003000407</td>\n",
       "      <td>Family Practice</td>\n",
       "    </tr>\n",
       "    <tr>\n",
       "      <th>3</th>\n",
       "      <td>1003000522</td>\n",
       "      <td>Family Practice</td>\n",
       "    </tr>\n",
       "    <tr>\n",
       "      <th>4</th>\n",
       "      <td>1003000530</td>\n",
       "      <td>Internal Medicine</td>\n",
       "    </tr>\n",
       "  </tbody>\n",
       "</table>\n",
       "</div>"
      ],
      "text/plain": [
       "          npi      provider_type\n",
       "0  1003000126  Internal Medicine\n",
       "1  1003000142     Anesthesiology\n",
       "2  1003000407    Family Practice\n",
       "3  1003000522    Family Practice\n",
       "4  1003000530  Internal Medicine"
      ]
     },
     "execution_count": 3,
     "metadata": {},
     "output_type": "execute_result"
    }
   ],
   "source": [
    "labels.head()"
   ]
  },
  {
   "cell_type": "code",
   "execution_count": 4,
   "metadata": {},
   "outputs": [
    {
     "data": {
      "text/plain": [
       "<516476x4206 sparse matrix of type '<class 'numpy.float64'>'\n",
       "\twith 5596950 stored elements in Compressed Sparse Column format>"
      ]
     },
     "execution_count": 4,
     "metadata": {},
     "output_type": "execute_result"
    }
   ],
   "source": [
    "features"
   ]
  },
  {
   "cell_type": "code",
   "execution_count": 9,
   "metadata": {},
   "outputs": [],
   "source": [
    "from sklearn.preprocessing import MaxAbsScaler\n",
    "from sklearn.feature_selection import VarianceThreshold\n",
    "from sklearn.pipeline import Pipeline\n",
    "from sklearn.model_selection import train_test_split\n",
    "from keras.utils import to_categorical\n",
    "\n",
    "pipeline = Pipeline([('scale', MaxAbsScaler()), ('zero_var', VarianceThreshold(0))])\n",
    "preprocessed = pipeline.fit_transform(features)\n",
    "y = to_categorical(labels['provider_type'].astype('category').cat.codes)\n",
    "\n",
    "x_train, x_test, y_train, y_test = train_test_split(preprocessed, \n",
    "                                                    y, \n",
    "                                                    test_size=0.3, \n",
    "                                                    random_state=random_state)\n",
    "\n",
    "x_train, x_val, y_train, y_val = train_test_split(x_train, \n",
    "                                                  y_train,\n",
    "                                                  test_size=0.1,\n",
    "                                                  random_state=random_state)"
   ]
  },
  {
   "cell_type": "code",
   "execution_count": 11,
   "metadata": {},
   "outputs": [
    {
     "data": {
      "text/plain": [
       "(325379, 4206)"
      ]
     },
     "execution_count": 11,
     "metadata": {},
     "output_type": "execute_result"
    }
   ],
   "source": [
    "x_train.shape"
   ]
  },
  {
   "cell_type": "code",
   "execution_count": 12,
   "metadata": {},
   "outputs": [
    {
     "data": {
      "text/plain": [
       "(325379, 11)"
      ]
     },
     "execution_count": 12,
     "metadata": {},
     "output_type": "execute_result"
    }
   ],
   "source": [
    "y_train.shape"
   ]
  },
  {
   "cell_type": "code",
   "execution_count": 13,
   "metadata": {},
   "outputs": [
    {
     "name": "stdout",
     "output_type": "stream",
     "text": [
      "_________________________________________________________________\n",
      "Layer (type)                 Output Shape              Param #   \n",
      "=================================================================\n",
      "input_2 (InputLayer)         (None, 4206)              0         \n",
      "_________________________________________________________________\n",
      "dense_4 (Dense)              (None, 500)               2103500   \n",
      "_________________________________________________________________\n",
      "dense_5 (Dense)              (None, 100)               50100     \n",
      "_________________________________________________________________\n",
      "encoded (Dense)              (None, 50)                5050      \n",
      "_________________________________________________________________\n",
      "dense_6 (Dense)              (None, 11)                561       \n",
      "=================================================================\n",
      "Total params: 2,159,211\n",
      "Trainable params: 2,159,211\n",
      "Non-trainable params: 0\n",
      "_________________________________________________________________\n"
     ]
    }
   ],
   "source": [
    "from keras.models import *\n",
    "from keras.layers import *\n",
    "\n",
    "input_layer = Input(shape=(x_train.shape[1],))\n",
    "x = Dense(500, activation='relu')(input_layer)\n",
    "x = Dense(100, activation='relu')(x)\n",
    "x = Dense(50, activation='relu', name='encoded')(x)\n",
    "output_layer = Dense(y_train.shape[1], activation='softmax')(x)\n",
    "\n",
    "model = Model(input_layer, output_layer)\n",
    "model.summary()"
   ]
  },
  {
   "cell_type": "code",
   "execution_count": 15,
   "metadata": {},
   "outputs": [],
   "source": [
    "from keras.callbacks import TensorBoard\n",
    "tensorboard = TensorBoard(log_dir='/tmp/tensorboard')"
   ]
  },
  {
   "cell_type": "markdown",
   "metadata": {},
   "source": [
    "to run tensorboard (port must be open in security group):\n",
    "`tensorboard --logdir=/tmp/tensorboard --host=0.0.0.0`"
   ]
  },
  {
   "cell_type": "code",
   "execution_count": 17,
   "metadata": {},
   "outputs": [],
   "source": [
    "def sparse_generator(x, y=None, batch_size=32):\n",
    "    index = np.arange(x.shape[0])\n",
    "    start = 0\n",
    "    while True:\n",
    "        if start == 0 and y is not None:\n",
    "            np.random.shuffle(index)\n",
    "\n",
    "        batch = index[start:start + batch_size]\n",
    "\n",
    "        if y is not None:\n",
    "            yield x[batch].toarray(), y[batch]\n",
    "        else:\n",
    "            yield x[batch].toarray()\n",
    "\n",
    "        start += batch_size\n",
    "        if start >= x.shape[0]:\n",
    "            start = 0"
   ]
  },
  {
   "cell_type": "code",
   "execution_count": 19,
   "metadata": {},
   "outputs": [
    {
     "name": "stdout",
     "output_type": "stream",
     "text": [
      "Epoch 1/10\n",
      "10169/10168 [==============================] - 66s 6ms/step - loss: 2.0046 - acc: 0.2735 - val_loss: 1.5202 - val_acc: 0.5054\n",
      "Epoch 2/10\n",
      "10169/10168 [==============================] - 55s 5ms/step - loss: 1.2342 - acc: 0.5562 - val_loss: 1.5320 - val_acc: 0.4310\n",
      "Epoch 3/10\n",
      "10169/10168 [==============================] - 54s 5ms/step - loss: 1.0570 - acc: 0.6102 - val_loss: 1.7359 - val_acc: 0.4148\n",
      "Epoch 4/10\n",
      "10169/10168 [==============================] - 55s 5ms/step - loss: 1.0065 - acc: 0.6251 - val_loss: 1.1337 - val_acc: 0.6064\n",
      "Epoch 5/10\n",
      "10169/10168 [==============================] - 54s 5ms/step - loss: 0.9777 - acc: 0.6343 - val_loss: 1.0975 - val_acc: 0.5617\n",
      "Epoch 6/10\n",
      "10169/10168 [==============================] - 55s 5ms/step - loss: 0.9584 - acc: 0.6402 - val_loss: 0.9848 - val_acc: 0.6322\n",
      "Epoch 7/10\n",
      "10169/10168 [==============================] - 54s 5ms/step - loss: 0.9432 - acc: 0.6440 - val_loss: 1.1264 - val_acc: 0.5698\n",
      "Epoch 8/10\n",
      "10169/10168 [==============================] - 55s 5ms/step - loss: 0.9301 - acc: 0.6488 - val_loss: 1.0329 - val_acc: 0.6289\n",
      "Epoch 9/10\n",
      "10169/10168 [==============================] - 55s 5ms/step - loss: 0.9215 - acc: 0.6515 - val_loss: 1.1074 - val_acc: 0.5503\n",
      "Epoch 10/10\n",
      "10169/10168 [==============================] - 54s 5ms/step - loss: 0.9134 - acc: 0.6547 - val_loss: 0.9849 - val_acc: 0.6052\n"
     ]
    },
    {
     "data": {
      "text/plain": [
       "<keras.callbacks.History at 0x7f155bd815f8>"
      ]
     },
     "execution_count": 19,
     "metadata": {},
     "output_type": "execute_result"
    }
   ],
   "source": [
    "model.compile(optimizer='sgd', loss='categorical_crossentropy', metrics=['accuracy'])\n",
    "batch_size = 32\n",
    "model.fit_generator(sparse_generator(x_train, y_train, batch_size),\n",
    "                    epochs=10,\n",
    "                    steps_per_epoch=-0 - - x_train.shape[0] / batch_size,\n",
    "                    validation_data=sparse_generator(x_val, y_val, batch_size),\n",
    "                    validation_steps=-0 - - x_val.shape[0] / batch_size,\n",
    "                    callbacks=[tensorboard])"
   ]
  }
 ],
 "metadata": {
  "kernelspec": {
   "display_name": "Environment (conda_tensorflow_p36)",
   "language": "python",
   "name": "conda_tensorflow_p36"
  },
  "language_info": {
   "codemirror_mode": {
    "name": "ipython",
    "version": 3
   },
   "file_extension": ".py",
   "mimetype": "text/x-python",
   "name": "python",
   "nbconvert_exporter": "python",
   "pygments_lexer": "ipython3",
   "version": "3.6.4"
  }
 },
 "nbformat": 4,
 "nbformat_minor": 2
}
