{
 "cells": [
  {
   "cell_type": "markdown",
   "metadata": {},
   "source": [
    "# Scikit + EC2\n",
    "\n",
    "Recommended instance type: c5.4xlarge"
   ]
  },
  {
   "cell_type": "code",
   "execution_count": 2,
   "metadata": {},
   "outputs": [
    {
     "name": "stdout",
     "output_type": "stream",
     "text": [
      "download: s3://rikturr/2015_partB_sparse.npz to ./2015_partB_sparse.npz\n",
      "download: s3://rikturr/2015_partB_lookup.csv to ./2015_partB_lookup.csv\n"
     ]
    }
   ],
   "source": [
    "!aws s3 cp s3://rikturr/2015_partB_sparse.npz .\n",
    "!aws s3 cp s3://rikturr/2015_partB_lookup.csv ."
   ]
  },
  {
   "cell_type": "code",
   "execution_count": 8,
   "metadata": {},
   "outputs": [
    {
     "name": "stdout",
     "output_type": "stream",
     "text": [
      "Collecting scikit-learn\n",
      "  Downloading scikit_learn-0.19.1-cp36-cp36m-manylinux1_x86_64.whl (12.4MB)\n",
      "\u001b[K    100% |████████████████████████████████| 12.4MB 123kB/s  eta 0:00:01\n",
      "\u001b[?25hInstalling collected packages: scikit-learn\n",
      "Successfully installed scikit-learn-0.19.1\n"
     ]
    }
   ],
   "source": [
    "!pip install scikit-learn"
   ]
  },
  {
   "cell_type": "code",
   "execution_count": 3,
   "metadata": {},
   "outputs": [
    {
     "name": "stderr",
     "output_type": "stream",
     "text": [
      "/home/ec2-user/anaconda3/envs/python3/lib/python3.6/site-packages/matplotlib/__init__.py:962: UserWarning: Duplicate key in file \"/home/ec2-user/.config/matplotlib/matplotlibrc\", line #2\n",
      "  (fname, cnt))\n",
      "/home/ec2-user/anaconda3/envs/python3/lib/python3.6/site-packages/matplotlib/__init__.py:962: UserWarning: Duplicate key in file \"/home/ec2-user/.config/matplotlib/matplotlibrc\", line #3\n",
      "  (fname, cnt))\n"
     ]
    }
   ],
   "source": [
    "import scipy.sparse as sp\n",
    "import pandas as pd\n",
    "import numpy as np\n",
    "\n",
    "random_state = 42\n",
    "labels = pd.read_csv('2015_partB_lookup.csv')\n",
    "features = sp.load_npz('2015_partB_sparse.npz')"
   ]
  },
  {
   "cell_type": "code",
   "execution_count": 4,
   "metadata": {},
   "outputs": [
    {
     "data": {
      "text/html": [
       "<div>\n",
       "<style scoped>\n",
       "    .dataframe tbody tr th:only-of-type {\n",
       "        vertical-align: middle;\n",
       "    }\n",
       "\n",
       "    .dataframe tbody tr th {\n",
       "        vertical-align: top;\n",
       "    }\n",
       "\n",
       "    .dataframe thead th {\n",
       "        text-align: right;\n",
       "    }\n",
       "</style>\n",
       "<table border=\"1\" class=\"dataframe\">\n",
       "  <thead>\n",
       "    <tr style=\"text-align: right;\">\n",
       "      <th></th>\n",
       "      <th>npi</th>\n",
       "      <th>provider_type</th>\n",
       "    </tr>\n",
       "  </thead>\n",
       "  <tbody>\n",
       "    <tr>\n",
       "      <th>0</th>\n",
       "      <td>1003000126</td>\n",
       "      <td>Internal Medicine</td>\n",
       "    </tr>\n",
       "    <tr>\n",
       "      <th>1</th>\n",
       "      <td>1003000142</td>\n",
       "      <td>Anesthesiology</td>\n",
       "    </tr>\n",
       "    <tr>\n",
       "      <th>2</th>\n",
       "      <td>1003000407</td>\n",
       "      <td>Family Practice</td>\n",
       "    </tr>\n",
       "    <tr>\n",
       "      <th>3</th>\n",
       "      <td>1003000522</td>\n",
       "      <td>Family Practice</td>\n",
       "    </tr>\n",
       "    <tr>\n",
       "      <th>4</th>\n",
       "      <td>1003000530</td>\n",
       "      <td>Internal Medicine</td>\n",
       "    </tr>\n",
       "  </tbody>\n",
       "</table>\n",
       "</div>"
      ],
      "text/plain": [
       "          npi      provider_type\n",
       "0  1003000126  Internal Medicine\n",
       "1  1003000142     Anesthesiology\n",
       "2  1003000407    Family Practice\n",
       "3  1003000522    Family Practice\n",
       "4  1003000530  Internal Medicine"
      ]
     },
     "execution_count": 4,
     "metadata": {},
     "output_type": "execute_result"
    }
   ],
   "source": [
    "labels.head()"
   ]
  },
  {
   "cell_type": "code",
   "execution_count": 5,
   "metadata": {},
   "outputs": [
    {
     "data": {
      "text/plain": [
       "<516476x4206 sparse matrix of type '<class 'numpy.float64'>'\n",
       "\twith 5596950 stored elements in Compressed Sparse Column format>"
      ]
     },
     "execution_count": 5,
     "metadata": {},
     "output_type": "execute_result"
    }
   ],
   "source": [
    "features"
   ]
  },
  {
   "cell_type": "code",
   "execution_count": 10,
   "metadata": {},
   "outputs": [],
   "source": [
    "from sklearn.model_selection import train_test_split\n",
    "\n",
    "x_train, x_test, y_train, y_test = train_test_split(features, \n",
    "                                                    labels['provider_type'], \n",
    "                                                    test_size=0.3, \n",
    "                                                    random_state=random_state)"
   ]
  },
  {
   "cell_type": "code",
   "execution_count": 11,
   "metadata": {},
   "outputs": [
    {
     "data": {
      "text/plain": [
       "(361533, 4206)"
      ]
     },
     "execution_count": 11,
     "metadata": {},
     "output_type": "execute_result"
    }
   ],
   "source": [
    "x_train.shape"
   ]
  },
  {
   "cell_type": "code",
   "execution_count": 12,
   "metadata": {},
   "outputs": [
    {
     "data": {
      "text/plain": [
       "(361533,)"
      ]
     },
     "execution_count": 12,
     "metadata": {},
     "output_type": "execute_result"
    }
   ],
   "source": [
    "y_train.shape"
   ]
  },
  {
   "cell_type": "code",
   "execution_count": 14,
   "metadata": {},
   "outputs": [
    {
     "name": "stdout",
     "output_type": "stream",
     "text": [
      "CPU times: user 50min 5s, sys: 1.87 s, total: 50min 7s\n",
      "Wall time: 3min 20s\n"
     ]
    }
   ],
   "source": [
    "%%time\n",
    "from sklearn.ensemble import RandomForestClassifier\n",
    "from multiprocessing import cpu_count\n",
    "\n",
    "rf = RandomForestClassifier(n_estimators=100, n_jobs=cpu_count(), random_state=random_state)\n",
    "rf.fit(x_train, y_train)"
   ]
  },
  {
   "cell_type": "code",
   "execution_count": 22,
   "metadata": {},
   "outputs": [
    {
     "name": "stdout",
     "output_type": "stream",
     "text": [
      "                      precision    recall  f1-score   support\n",
      "\n",
      "      Anesthesiology       0.98      0.98      0.98     10030\n",
      "          Cardiology       0.91      0.91      0.91      6206\n",
      "Diagnostic Radiology       0.99      0.99      0.99      8716\n",
      "  Emergency Medicine       0.81      0.84      0.82     12199\n",
      "     Family Practice       0.54      0.58      0.56     24208\n",
      "   Internal Medicine       0.68      0.67      0.68     29214\n",
      "  Nurse Practitioner       0.52      0.57      0.55     23458\n",
      "       Ophthalmology       0.99      0.98      0.99      5181\n",
      "  Orthopedic Surgery       0.81      0.88      0.84      6338\n",
      "  Physical Therapist       1.00      1.00      1.00     13009\n",
      " Physician Assistant       0.51      0.36      0.42     16384\n",
      "\n",
      "         avg / total       0.72      0.72      0.71    154943\n",
      "\n"
     ]
    }
   ],
   "source": [
    "from sklearn.metrics import classification_report\n",
    "\n",
    "predicted = rf.predict(x_test)\n",
    "print(classification_report(y_test, predicted))"
   ]
  },
  {
   "cell_type": "code",
   "execution_count": 23,
   "metadata": {},
   "outputs": [
    {
     "data": {
      "text/html": [
       "<div>\n",
       "<style scoped>\n",
       "    .dataframe tbody tr th:only-of-type {\n",
       "        vertical-align: middle;\n",
       "    }\n",
       "\n",
       "    .dataframe tbody tr th {\n",
       "        vertical-align: top;\n",
       "    }\n",
       "\n",
       "    .dataframe thead th {\n",
       "        text-align: right;\n",
       "    }\n",
       "</style>\n",
       "<table border=\"1\" class=\"dataframe\">\n",
       "  <thead>\n",
       "    <tr style=\"text-align: right;\">\n",
       "      <th>col_0</th>\n",
       "      <th>Anesthesiology</th>\n",
       "      <th>Cardiology</th>\n",
       "      <th>Diagnostic Radiology</th>\n",
       "      <th>Emergency Medicine</th>\n",
       "      <th>Family Practice</th>\n",
       "      <th>Internal Medicine</th>\n",
       "      <th>Nurse Practitioner</th>\n",
       "      <th>Ophthalmology</th>\n",
       "      <th>Orthopedic Surgery</th>\n",
       "      <th>Physical Therapist</th>\n",
       "      <th>Physician Assistant</th>\n",
       "    </tr>\n",
       "    <tr>\n",
       "      <th>provider_type</th>\n",
       "      <th></th>\n",
       "      <th></th>\n",
       "      <th></th>\n",
       "      <th></th>\n",
       "      <th></th>\n",
       "      <th></th>\n",
       "      <th></th>\n",
       "      <th></th>\n",
       "      <th></th>\n",
       "      <th></th>\n",
       "      <th></th>\n",
       "    </tr>\n",
       "  </thead>\n",
       "  <tbody>\n",
       "    <tr>\n",
       "      <th>Anesthesiology</th>\n",
       "      <td>9802</td>\n",
       "      <td>2</td>\n",
       "      <td>2</td>\n",
       "      <td>6</td>\n",
       "      <td>19</td>\n",
       "      <td>52</td>\n",
       "      <td>103</td>\n",
       "      <td>0</td>\n",
       "      <td>16</td>\n",
       "      <td>2</td>\n",
       "      <td>26</td>\n",
       "    </tr>\n",
       "    <tr>\n",
       "      <th>Cardiology</th>\n",
       "      <td>3</td>\n",
       "      <td>5664</td>\n",
       "      <td>7</td>\n",
       "      <td>3</td>\n",
       "      <td>26</td>\n",
       "      <td>289</td>\n",
       "      <td>165</td>\n",
       "      <td>1</td>\n",
       "      <td>1</td>\n",
       "      <td>0</td>\n",
       "      <td>47</td>\n",
       "    </tr>\n",
       "    <tr>\n",
       "      <th>Diagnostic Radiology</th>\n",
       "      <td>6</td>\n",
       "      <td>11</td>\n",
       "      <td>8625</td>\n",
       "      <td>3</td>\n",
       "      <td>14</td>\n",
       "      <td>10</td>\n",
       "      <td>23</td>\n",
       "      <td>1</td>\n",
       "      <td>1</td>\n",
       "      <td>0</td>\n",
       "      <td>22</td>\n",
       "    </tr>\n",
       "    <tr>\n",
       "      <th>Emergency Medicine</th>\n",
       "      <td>8</td>\n",
       "      <td>4</td>\n",
       "      <td>9</td>\n",
       "      <td>10269</td>\n",
       "      <td>536</td>\n",
       "      <td>216</td>\n",
       "      <td>393</td>\n",
       "      <td>1</td>\n",
       "      <td>17</td>\n",
       "      <td>0</td>\n",
       "      <td>746</td>\n",
       "    </tr>\n",
       "    <tr>\n",
       "      <th>Family Practice</th>\n",
       "      <td>6</td>\n",
       "      <td>18</td>\n",
       "      <td>28</td>\n",
       "      <td>552</td>\n",
       "      <td>14068</td>\n",
       "      <td>5117</td>\n",
       "      <td>3404</td>\n",
       "      <td>5</td>\n",
       "      <td>135</td>\n",
       "      <td>0</td>\n",
       "      <td>875</td>\n",
       "    </tr>\n",
       "    <tr>\n",
       "      <th>Internal Medicine</th>\n",
       "      <td>44</td>\n",
       "      <td>418</td>\n",
       "      <td>15</td>\n",
       "      <td>278</td>\n",
       "      <td>5382</td>\n",
       "      <td>19701</td>\n",
       "      <td>2757</td>\n",
       "      <td>5</td>\n",
       "      <td>65</td>\n",
       "      <td>8</td>\n",
       "      <td>541</td>\n",
       "    </tr>\n",
       "    <tr>\n",
       "      <th>Nurse Practitioner</th>\n",
       "      <td>41</td>\n",
       "      <td>58</td>\n",
       "      <td>12</td>\n",
       "      <td>565</td>\n",
       "      <td>3847</td>\n",
       "      <td>2240</td>\n",
       "      <td>13467</td>\n",
       "      <td>10</td>\n",
       "      <td>239</td>\n",
       "      <td>8</td>\n",
       "      <td>2971</td>\n",
       "    </tr>\n",
       "    <tr>\n",
       "      <th>Ophthalmology</th>\n",
       "      <td>1</td>\n",
       "      <td>0</td>\n",
       "      <td>0</td>\n",
       "      <td>2</td>\n",
       "      <td>7</td>\n",
       "      <td>5</td>\n",
       "      <td>61</td>\n",
       "      <td>5087</td>\n",
       "      <td>1</td>\n",
       "      <td>1</td>\n",
       "      <td>16</td>\n",
       "    </tr>\n",
       "    <tr>\n",
       "      <th>Orthopedic Surgery</th>\n",
       "      <td>22</td>\n",
       "      <td>2</td>\n",
       "      <td>3</td>\n",
       "      <td>6</td>\n",
       "      <td>23</td>\n",
       "      <td>58</td>\n",
       "      <td>274</td>\n",
       "      <td>1</td>\n",
       "      <td>5592</td>\n",
       "      <td>8</td>\n",
       "      <td>349</td>\n",
       "    </tr>\n",
       "    <tr>\n",
       "      <th>Physical Therapist</th>\n",
       "      <td>0</td>\n",
       "      <td>0</td>\n",
       "      <td>0</td>\n",
       "      <td>0</td>\n",
       "      <td>0</td>\n",
       "      <td>0</td>\n",
       "      <td>3</td>\n",
       "      <td>0</td>\n",
       "      <td>0</td>\n",
       "      <td>13006</td>\n",
       "      <td>0</td>\n",
       "    </tr>\n",
       "    <tr>\n",
       "      <th>Physician Assistant</th>\n",
       "      <td>34</td>\n",
       "      <td>48</td>\n",
       "      <td>13</td>\n",
       "      <td>1043</td>\n",
       "      <td>2083</td>\n",
       "      <td>1126</td>\n",
       "      <td>5227</td>\n",
       "      <td>12</td>\n",
       "      <td>874</td>\n",
       "      <td>1</td>\n",
       "      <td>5923</td>\n",
       "    </tr>\n",
       "  </tbody>\n",
       "</table>\n",
       "</div>"
      ],
      "text/plain": [
       "col_0                 Anesthesiology  Cardiology  Diagnostic Radiology  \\\n",
       "provider_type                                                            \n",
       "Anesthesiology                  9802           2                     2   \n",
       "Cardiology                         3        5664                     7   \n",
       "Diagnostic Radiology               6          11                  8625   \n",
       "Emergency Medicine                 8           4                     9   \n",
       "Family Practice                    6          18                    28   \n",
       "Internal Medicine                 44         418                    15   \n",
       "Nurse Practitioner                41          58                    12   \n",
       "Ophthalmology                      1           0                     0   \n",
       "Orthopedic Surgery                22           2                     3   \n",
       "Physical Therapist                 0           0                     0   \n",
       "Physician Assistant               34          48                    13   \n",
       "\n",
       "col_0                 Emergency Medicine  Family Practice  Internal Medicine  \\\n",
       "provider_type                                                                  \n",
       "Anesthesiology                         6               19                 52   \n",
       "Cardiology                             3               26                289   \n",
       "Diagnostic Radiology                   3               14                 10   \n",
       "Emergency Medicine                 10269              536                216   \n",
       "Family Practice                      552            14068               5117   \n",
       "Internal Medicine                    278             5382              19701   \n",
       "Nurse Practitioner                   565             3847               2240   \n",
       "Ophthalmology                          2                7                  5   \n",
       "Orthopedic Surgery                     6               23                 58   \n",
       "Physical Therapist                     0                0                  0   \n",
       "Physician Assistant                 1043             2083               1126   \n",
       "\n",
       "col_0                 Nurse Practitioner  Ophthalmology  Orthopedic Surgery  \\\n",
       "provider_type                                                                 \n",
       "Anesthesiology                       103              0                  16   \n",
       "Cardiology                           165              1                   1   \n",
       "Diagnostic Radiology                  23              1                   1   \n",
       "Emergency Medicine                   393              1                  17   \n",
       "Family Practice                     3404              5                 135   \n",
       "Internal Medicine                   2757              5                  65   \n",
       "Nurse Practitioner                 13467             10                 239   \n",
       "Ophthalmology                         61           5087                   1   \n",
       "Orthopedic Surgery                   274              1                5592   \n",
       "Physical Therapist                     3              0                   0   \n",
       "Physician Assistant                 5227             12                 874   \n",
       "\n",
       "col_0                 Physical Therapist  Physician Assistant  \n",
       "provider_type                                                  \n",
       "Anesthesiology                         2                   26  \n",
       "Cardiology                             0                   47  \n",
       "Diagnostic Radiology                   0                   22  \n",
       "Emergency Medicine                     0                  746  \n",
       "Family Practice                        0                  875  \n",
       "Internal Medicine                      8                  541  \n",
       "Nurse Practitioner                     8                 2971  \n",
       "Ophthalmology                          1                   16  \n",
       "Orthopedic Surgery                     8                  349  \n",
       "Physical Therapist                 13006                    0  \n",
       "Physician Assistant                    1                 5923  "
      ]
     },
     "execution_count": 23,
     "metadata": {},
     "output_type": "execute_result"
    }
   ],
   "source": [
    "pd.crosstab(y_test, predicted)"
   ]
  }
 ],
 "metadata": {
  "kernelspec": {
   "display_name": "Environment (conda_python3)",
   "language": "python",
   "name": "conda_python3"
  },
  "language_info": {
   "codemirror_mode": {
    "name": "ipython",
    "version": 3
   },
   "file_extension": ".py",
   "mimetype": "text/x-python",
   "name": "python",
   "nbconvert_exporter": "python",
   "pygments_lexer": "ipython3",
   "version": "3.6.4"
  }
 },
 "nbformat": 4,
 "nbformat_minor": 2
}
